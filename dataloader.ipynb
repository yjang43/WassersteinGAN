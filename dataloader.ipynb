{
 "cells": [
  {
   "cell_type": "code",
   "execution_count": 166,
   "id": "d89bf928-6449-48bd-ac7c-9d671d95588c",
   "metadata": {},
   "outputs": [],
   "source": [
    "# dataloader\n",
    "\n",
    "import torch\n",
    "import torchvision\n",
    "import torchvision.transforms as transforms\n",
    "\n",
    "from torch.utils.data import DataLoader"
   ]
  },
  {
   "cell_type": "code",
   "execution_count": 185,
   "id": "7ba5049e-bc5a-4e64-a305-14574f79fcd7",
   "metadata": {},
   "outputs": [],
   "source": [
    "# set arguments\n",
    "# !pip install easydict\n",
    "from easydict import EasyDict\n",
    "\n",
    "args = EasyDict({\n",
    "    'dataset_name': 'mnist',\n",
    "    'data_root': '../data/',\n",
    "    'resolution': 32\n",
    "})"
   ]
  },
  {
   "cell_type": "code",
   "execution_count": 186,
   "id": "d74aee27-0872-4b47-b50b-385aec756865",
   "metadata": {},
   "outputs": [],
   "source": [
    "# define transform\n",
    "data_transforms = transforms.Compose([\n",
    "    transforms.ToTensor(),\n",
    "    transforms.Resize(args.resolution),\n",
    "    transforms.CenterCrop(args.resolution),\n",
    "    transforms.Normalize(0, 1)\n",
    "])"
   ]
  },
  {
   "cell_type": "code",
   "execution_count": 187,
   "id": "4f6d0786-2889-4d2a-9f03-dd1320ca76e1",
   "metadata": {},
   "outputs": [],
   "source": [
    "# Load image dataset\n",
    "# dataset_name = 'cifar10'\n",
    "# data_root = '../data/'\n",
    "\n",
    "dataset_classes = [ds for ds in dir(torchvision.datasets) \n",
    "                   if ds.lower() == args.dataset_name.lower()]\n",
    "assert dataset_classes, f'Dataset name {args.dataset_name} does not exist'\n",
    "dataset_class = getattr(torchvision.datasets, dataset_classes[0])\n",
    "\n",
    "train_dataset = dataset_class(root=args.data_root, train=True, download=True, transform=data_transforms)\n",
    "test_dataset = dataset_class(root=args.data_root, train=False, download=True, transform=data_transforms)"
   ]
  },
  {
   "cell_type": "code",
   "execution_count": 188,
   "id": "47cc0fa8-5d7e-4b6c-808c-ebb03496f009",
   "metadata": {},
   "outputs": [],
   "source": [
    "# define sampler\n",
    "def get_sampler(dataset, classes=[0]):\n",
    "    if isinstance(classes, int): classes = [classes]\n",
    "    targets = torch.tensor(dataset.targets)\n",
    "    mask = torch.zeros_like(targets)\n",
    "    for c in classes:\n",
    "        mask += targets==c\n",
    "    target_idx = mask.nonzero().flatten().tolist()    \n",
    "    sampler = torch.utils.data.sampler.SubsetRandomSampler(target_idx)\n",
    "    return sampler"
   ]
  },
  {
   "cell_type": "code",
   "execution_count": 189,
   "id": "37c0291e-f485-4a92-bf21-7021faf1fc96",
   "metadata": {},
   "outputs": [
    {
     "data": {
      "text/plain": [
       "torch.Size([1, 32, 32])"
      ]
     },
     "execution_count": 189,
     "metadata": {},
     "output_type": "execute_result"
    }
   ],
   "source": [
    "train_dataset[0][0].size()"
   ]
  },
  {
   "cell_type": "code",
   "execution_count": 190,
   "id": "5a6bb55b-5f89-4a63-ab4c-ff02439e533c",
   "metadata": {},
   "outputs": [
    {
     "name": "stderr",
     "output_type": "stream",
     "text": [
      "<ipython-input-188-e7e8a588ee4e>:4: UserWarning: To copy construct from a tensor, it is recommended to use sourceTensor.clone().detach() or sourceTensor.clone().detach().requires_grad_(True), rather than torch.tensor(sourceTensor).\n",
      "  targets = torch.tensor(dataset.targets)\n"
     ]
    }
   ],
   "source": [
    "train_dataloader = DataLoader(\n",
    "    train_dataset, \n",
    "    batch_size=4,\n",
    "    sampler=get_sampler(train_dataset, [0, 1]),\n",
    "    drop_last=True,\n",
    ")\n",
    "test_dataloader = DataLoader(\n",
    "    test_dataset, \n",
    "    batch_size=4,\n",
    "    sampler=get_sampler(test_dataset, [0, 1]),\n",
    "    drop_last=True,\n",
    ")"
   ]
  },
  {
   "cell_type": "code",
   "execution_count": 191,
   "id": "f91eeff3-24f2-4a23-a8bb-a804f195cd04",
   "metadata": {},
   "outputs": [],
   "source": [
    "def plot_images(imgs):\n",
    "    import matplotlib.pyplot as plt\n",
    "    imgs = torchvision.utils.make_grid(imgs)\n",
    "    plt.imshow(imgs.permute(1, 2, 0).squeeze())"
   ]
  },
  {
   "cell_type": "code",
   "execution_count": 192,
   "id": "60d5ce04-8db5-4806-b3f2-5ee94ae4ead8",
   "metadata": {},
   "outputs": [
    {
     "name": "stdout",
     "output_type": "stream",
     "text": [
      "tensor([1, 1, 1, 0])\n"
     ]
    },
    {
     "data": {
      "image/png": "[encoded data removed]",
      "text/plain": [
       "<Figure size 432x288 with 1 Axes>"
      ]
     },
     "metadata": {
      "needs_background": "light"
     },
     "output_type": "display_data"
    }
   ],
   "source": [
    "imgs, labels = next(iter(train_dataloader))\n",
    "imgs.size()\n",
    "print(labels)\n",
    "plot_images(imgs)"
   ]
  },
  {
   "cell_type": "code",
   "execution_count": null,
   "id": "a9434290-9084-44a7-a38b-6189ada2b5d5",
   "metadata": {},
   "outputs": [],
   "source": []
  }
 ],
 "metadata": {
  "kernelspec": {
   "display_name": "Python 3",
   "language": "python",
   "name": "python3"
  },
  "language_info": {
   "codemirror_mode": {
    "name": "ipython",
    "version": 3
   },
   "file_extension": ".py",
   "mimetype": "text/x-python",
   "name": "python",
   "nbconvert_exporter": "python",
   "pygments_lexer": "ipython3",
   "version": "3.8.8"
  }
 },
 "nbformat": 4,
 "nbformat_minor": 5
}
